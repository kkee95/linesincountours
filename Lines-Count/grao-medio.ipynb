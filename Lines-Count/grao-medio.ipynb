{
 "cells": [
  {
   "cell_type": "markdown",
   "metadata": {},
   "source": [
    "Bibliotecas"
   ]
  },
  {
   "cell_type": "code",
   "execution_count": null,
   "metadata": {
    "vscode": {
     "languageId": "plaintext"
    }
   },
   "outputs": [],
   "source": [
    "import cv2\n",
    "import numpy as np\n",
    "import matplotlib.pyplot as plt\n",
    "import pandas as pd\n",
    "import random\n",
    "import os\n",
    "from PIL import Image"
   ]
  },
  {
   "cell_type": "code",
   "execution_count": null,
   "metadata": {
    "vscode": {
     "languageId": "plaintext"
    }
   },
   "outputs": [],
   "source": [
    "def find_parent_contours(bordas, min_contour_area):\n",
    "    contours, _ = cv2.findContours(bordas, cv2.RETR_EXTERNAL, cv2.CHAIN_APPROX_SIMPLE)\n",
    "    parent_contours = [contour for contour in contours if cv2.contourArea(contour) > min_contour_area]\n",
    "    parent_contours_df = pd.DataFrame({'contour': parent_contours})\n",
    "    return parent_contours_df\n",
    "\n",
    "def generate_random_lines(num_lines, max_line_length, max_angle_deviation, max_rho_deviation):\n",
    "    lines = []\n",
    "    for _ in range(num_lines):\n",
    "        rho = random.uniform(0, np.sqrt(imagem_filtrada.shape[0]**2 + imagem_filtrada.shape[1]**2))\n",
    "        theta = random.uniform(0, np.pi)\n",
    "        lines.append((rho, theta))\n",
    "    return add_randomness_to_lines(lines, max_angle_deviation, max_rho_deviation)\n",
    "\n",
    "def add_randomness_to_lines(lines, max_angle_deviation, max_rho_deviation):\n",
    "    modified_lines = []\n",
    "    for line in lines:\n",
    "        rho, theta = line\n",
    "        modified_theta = theta + random.uniform(-max_angle_deviation, max_angle_deviation)\n",
    "        modified_rho = rho + random.uniform(-max_rho_deviation, max_rho_deviation)\n",
    "        modified_lines.append((modified_rho, modified_theta))\n",
    "    return modified_lines\n",
    "\n",
    "def check_points_in_lines(contour_points, lines, tolerance):\n",
    "    pontos_contornos = []\n",
    "\n",
    "    for point in contour_points:\n",
    "        x, y = point[0]\n",
    "        point_found = False\n",
    "\n",
    "        for rho, theta in lines:\n",
    "            a = np.cos(theta)\n",
    "            b = np.sin(theta)\n",
    "            dist = abs(a * x + b * y - rho) / np.sqrt(a**2 + b**2)\n",
    "\n",
    "            if dist < tolerance:\n",
    "                point_found = True\n",
    "                break\n",
    "\n",
    "        if point_found:\n",
    "            pontos_contornos.append((x, y))\n",
    "\n",
    "    return pontos_contornos\n",
    "\n",
    "def check_point_in_line(point, rho, theta, tolerance):\n",
    "    x, y = point\n",
    "    a = np.cos(theta)\n",
    "    b = np.sin(theta)\n",
    "    dist = abs(a * x + b * y - rho) / np.sqrt(a**2 + b**2)\n",
    "    return dist < tolerance\n",
    "\n",
    "def fator_conversao(regua_micro, regua_macro, resolucao_ppi):\n",
    "    conversao_micrometros = (regua_micro / regua_macro )* 2.54 *(1 / resolucao_ppi)\n",
    "    return conversao_micrometros"
   ]
  },
  {
   "cell_type": "markdown",
   "metadata": {},
   "source": [
    "Carregamento da Imagem"
   ]
  },
  {
   "cell_type": "code",
   "execution_count": null,
   "metadata": {
    "vscode": {
     "languageId": "plaintext"
    }
   },
   "outputs": [],
   "source": [
    "def find_parent_contours(bordas, min_contour_area):\n",
    "    contours, _ = cv2.findContours(bordas, cv2.RETR_EXTERNAL, cv2.CHAIN_APPROX_SIMPLE)\n",
    "    parent_contours = [contour for contour in contours if cv2.contourArea(contour) > min_contour_area]\n",
    "    parent_contours_df = pd.DataFrame({'contour': parent_contours})\n",
    "    return parent_contours_df\n",
    "\n",
    "def generate_random_lines(num_lines, max_line_length, max_angle_deviation, max_rho_deviation):\n",
    "    lines = []\n",
    "    for _ in range(num_lines):\n",
    "        rho = random.uniform(0, np.sqrt(imagem_filtrada.shape[0]**2 + imagem_filtrada.shape[1]**2))\n",
    "        theta = random.uniform(0, np.pi)\n",
    "        lines.append((rho, theta))\n",
    "    return add_randomness_to_lines(lines, max_angle_deviation, max_rho_deviation)\n",
    "\n",
    "def add_randomness_to_lines(lines, max_angle_deviation, max_rho_deviation):\n",
    "    modified_lines = []\n",
    "    for line in lines:\n",
    "        rho, theta = line\n",
    "        modified_theta = theta + random.uniform(-max_angle_deviation, max_angle_deviation)\n",
    "        modified_rho = rho + random.uniform(-max_rho_deviation, max_rho_deviation)\n",
    "        modified_lines.append((modified_rho, modified_theta))\n",
    "    return modified_lines\n",
    "\n",
    "def check_points_in_lines(contour_points, lines, tolerance):\n",
    "    pontos_contornos = []\n",
    "\n",
    "    for point in contour_points:\n",
    "        x, y = point[0]\n",
    "        point_found = False\n",
    "\n",
    "        for rho, theta in lines:\n",
    "            a = np.cos(theta)\n",
    "            b = np.sin(theta)\n",
    "            dist = abs(a * x + b * y - rho) / np.sqrt(a**2 + b**2)\n",
    "\n",
    "            if dist < tolerance:\n",
    "                point_found = True\n",
    "                break\n",
    "\n",
    "        if point_found:\n",
    "            pontos_contornos.append((x, y))\n",
    "\n",
    "    return pontos_contornos\n",
    "\n",
    "def check_point_in_line(point, rho, theta, tolerance):\n",
    "    x, y = point\n",
    "    a = np.cos(theta)\n",
    "    b = np.sin(theta)\n",
    "    dist = abs(a * x + b * y - rho) / np.sqrt(a**2 + b**2)\n",
    "    return dist < tolerance\n",
    "\n",
    "def fator_conversao(regua_micro, regua_macro, resolucao_ppi):\n",
    "    conversao_micrometros = (regua_micro / regua_macro )* 2.54 *(1 / resolucao_ppi)\n",
    "    return conversao_micrometros"
   ]
  },
  {
   "cell_type": "markdown",
   "metadata": {},
   "source": [
    "Aplicação do Método de Canny"
   ]
  },
  {
   "cell_type": "code",
   "execution_count": null,
   "metadata": {
    "vscode": {
     "languageId": "plaintext"
    }
   },
   "outputs": [],
   "source": [
    "# Aplicar o método de Canny para detecção de bordas\n",
    "bordas = cv2.Canny(imagem_filtrada, 50, 50)"
   ]
  },
  {
   "cell_type": "markdown",
   "metadata": {},
   "source": [
    "Visualização das Bordas"
   ]
  },
  {
   "cell_type": "code",
   "execution_count": null,
   "metadata": {
    "vscode": {
     "languageId": "plaintext"
    }
   },
   "outputs": [],
   "source": [
    "# Exibir a imagem com as bordas detectadas\n",
    "plt.imshow(bordas, cmap='gray')\n",
    "plt.title('Bordas detectadas com o método de Canny')\n",
    "plt.axis('off')\n",
    "plt.show()"
   ]
  },
  {
   "cell_type": "markdown",
   "metadata": {},
   "source": [
    "Criação das Retas"
   ]
  },
  {
   "cell_type": "code",
   "execution_count": null,
   "metadata": {
    "vscode": {
     "languageId": "plaintext"
    }
   },
   "outputs": [],
   "source": [
    "try:\n",
    "    if imagem_filtrada is None:\n",
    "        raise ValueError(\"Não foi possível ler a imagem. Verifique o caminho da imagem.\")\n",
    "\n",
    "    # Encontrar os contornos relevantes na imagem\n",
    "    parent_contours_df = find_parent_contours(bordas, min_contour_area = 10 )\n",
    "\n",
    "    if len(parent_contours_df) >= 2:\n",
    "        # Gerar linhas aleatórias\n",
    "        max_random_lines = 40\n",
    "        max_line_length = 500\n",
    "        max_angle_deviation = np.pi / 2\n",
    "        max_rho_deviation = 100  # Pixels\n",
    "        randomized_lines = generate_random_lines(max_random_lines, max_line_length, max_angle_deviation, max_rho_deviation)\n",
    "\n",
    "        # Desenhar as linhas detectadas com aleatoriedade\n",
    "        for rho, theta in randomized_lines:\n",
    "            a = np.cos(theta)\n",
    "            b = np.sin(theta)\n",
    "            x0 = a * rho\n",
    "            y0 = b * rho\n",
    "            x1 = int(x0 + max_line_length * (-b))\n",
    "            y1 = int(y0 + max_line_length * (a))\n",
    "            x2 = int(x0 - max_line_length * (-b))\n",
    "            y2 = int(y0 - max_line_length * (a))\n",
    "            cv2.line(imagem_filtrada, (x1, y1), (x2, y2), (0, 0, 255), 2)\n",
    "\n",
    "        # Verificar se os pontos dos contornos estão contidos nas retas\n",
    "        tolerance = 5\n",
    "\n",
    "        for _, row in parent_contours_df.iterrows():\n",
    "            contour_points = row['contour']\n",
    "            check_points_in_lines(contour_points, randomized_lines, tolerance)\n",
    "\n",
    "    else:\n",
    "        print(\"Não foram encontrados contornos suficientes na imagem.\")\n",
    "\n",
    "except ValueError as ve:\n",
    "    print(\"Erro ao processar a imagem:\", ve)\n",
    "except Exception as e:\n",
    "    print(\"Ocorreu um erro inesperado:\", e)"
   ]
  },
  {
   "cell_type": "markdown",
   "metadata": {},
   "source": [
    "Visualização das Imagens com as retas"
   ]
  },
  {
   "cell_type": "code",
   "execution_count": null,
   "metadata": {
    "vscode": {
     "languageId": "plaintext"
    }
   },
   "outputs": [],
   "source": [
    "# Exibir a imagem com as linhas traçadas\n",
    "cv2_imshow(imagem_filtrada)\n",
    "cv2.waitKey(0)\n",
    "cv2.destroyAllWindows()"
   ]
  }
 ],
 "metadata": {
  "language_info": {
   "name": "python"
  }
 },
 "nbformat": 4,
 "nbformat_minor": 2
}
