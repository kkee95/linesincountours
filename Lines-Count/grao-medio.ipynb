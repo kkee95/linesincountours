{
 "cells": [
  {
   "cell_type": "markdown",
   "metadata": {},
   "source": [
    "Bibliotecas"
   ]
  },
  {
   "cell_type": "code",
   "execution_count": null,
   "metadata": {
    "vscode": {
     "languageId": "plaintext"
    }
   },
   "outputs": [],
   "source": [
    "import cv2\n",
    "import pandas as pd\n",
    "import numpy as np\n",
    "import random"
   ]
  },
  {
   "cell_type": "markdown",
   "metadata": {},
   "source": [
    "Funções"
   ]
  },
  {
   "cell_type": "code",
   "execution_count": null,
   "metadata": {
    "vscode": {
     "languageId": "plaintext"
    }
   },
   "outputs": [],
   "source": [
    "def find_parent_contours(bordas, min_contour_area):\n",
    "    contours, _ = cv2.findContours(bordas, cv2.RETR_EXTERNAL, cv2.CHAIN_APPROX_SIMPLE)\n",
    "    parent_contours = [contour for contour in contours if cv2.contourArea(contour) > min_contour_area]\n",
    "    return pd.DataFrame({'contour': parent_contours})\n",
    "\n",
    "def generate_random_lines(num_lines, max_line_length, max_angle_deviation, max_rho_deviation, image_shape):\n",
    "    max_rho = np.hypot(image_shape[0], image_shape[1])\n",
    "    lines = [(random.uniform(0, max_rho), random.uniform(0, np.pi)) for _ in range(num_lines)]\n",
    "    return add_randomness_to_lines(lines, max_angle_deviation, max_rho_deviation)\n",
    "\n",
    "def add_randomness_to_lines(lines, max_angle_deviation, max_rho_deviation):\n",
    "    return [(rho + random.uniform(-max_rho_deviation, max_rho_deviation),\n",
    "             theta + random.uniform(-max_angle_deviation, max_angle_deviation)) \n",
    "            for rho, theta in lines]\n",
    "\n",
    "def check_points_in_lines(contour_points, lines, tolerance):\n",
    "    def point_in_line(point, rho, theta, tolerance):\n",
    "        x, y = point\n",
    "        a, b = np.cos(theta), np.sin(theta)\n",
    "        dist = abs(a * x + b * y - rho) / np.hypot(a, b)\n",
    "        return dist < tolerance\n",
    "\n",
    "    pontos_contornos = [(x, y) for [x, y] in contour_points \n",
    "                        if any(point_in_line((x, y), rho, theta, tolerance) for rho, theta in lines)]\n",
    "    return pontos_contornos\n",
    "\n",
    "def fator_conversao(regua_micro, regua_macro, resolucao_ppi):\n",
    "    return (regua_micro / regua_macro) * 2.54 / resolucao_ppi\n"
   ]
  },
  {
   "cell_type": "markdown",
   "metadata": {},
   "source": [
    "Carregamento da Imagem"
   ]
  },
  {
   "cell_type": "code",
   "execution_count": null,
   "metadata": {
    "vscode": {
     "languageId": "plaintext"
    }
   },
   "outputs": [],
   "source": [
    "import cv2\n",
    "\n",
    "def carregar_imagem(caminho_da_imagem):\n",
    "    return cv2.imread(caminho_da_imagem, cv2.IMREAD_COLOR)\n",
    "\n",
    "def converter_para_cinza(imagem):\n",
    "    return cv2.cvtColor(imagem, cv2.COLOR_BGR2GRAY)\n",
    "\n",
    "def aplicar_filtro_gaussiano(imagem_cinza, tamanho_kernel=(5, 5), desvio_padrao=0):\n",
    "    return cv2.GaussianBlur(imagem_cinza, tamanho_kernel, desvio_padrao)\n",
    "\n",
    "# Caminho da imagem\n",
    "caminho_da_imagem = '~/Imagens/Teste/mapa-do-brasil-estados-branco-sem-legenda.jpg'\n",
    "\n",
    "# Carregar a imagem\n",
    "imagem = carregar_imagem(caminho_da_imagem)\n",
    "\n",
    "# Converter a imagem para escala de cinza\n",
    "imagem_cinza = converter_para_cinza(imagem)\n",
    "\n",
    "# Aplicar um filtro Gaussiano para redução de ruído\n",
    "imagem_filtrada = aplicar_filtro_gaussiano(imagem_cinza)\n"
   ]
  },
  {
   "cell_type": "markdown",
   "metadata": {},
   "source": [
    "Aplicação do Método de Canny"
   ]
  },
  {
   "cell_type": "code",
   "execution_count": null,
   "metadata": {
    "vscode": {
     "languageId": "plaintext"
    }
   },
   "outputs": [],
   "source": [
    "import cv2\n",
    "\n",
    "def aplicar_canny(imagem, limite_inferior, limite_superior):\n",
    "    return cv2.Canny(imagem, limite_inferior, limite_superior)\n",
    "\n",
    "# Parâmetros do método de Canny\n",
    "limite_inferior = 50\n",
    "limite_superior = 50\n",
    "\n",
    "# Aplicar o método de Canny para detecção de bordas\n",
    "bordas = aplicar_canny(imagem_filtrada, limite_inferior, limite_superior)\n"
   ]
  },
  {
   "cell_type": "markdown",
   "metadata": {},
   "source": [
    "Visualização das Bordas"
   ]
  },
  {
   "cell_type": "code",
   "execution_count": null,
   "metadata": {
    "vscode": {
     "languageId": "plaintext"
    }
   },
   "outputs": [],
   "source": [
    "import matplotlib.pyplot as plt\n",
    "\n",
    "def exibir_imagem_bordas(bordas, titulo='Bordas detectadas com o método de Canny'):\n",
    "    plt.imshow(bordas, cmap='gray')\n",
    "    plt.title(titulo)\n",
    "    plt.axis('off')\n",
    "    plt.show()\n",
    "\n",
    "# Exibir a imagem com as bordas detectadas\n",
    "exibir_imagem_bordas(bordas)\n"
   ]
  },
  {
   "cell_type": "markdown",
   "metadata": {},
   "source": [
    "Criação das Retas"
   ]
  },
  {
   "cell_type": "code",
   "execution_count": null,
   "metadata": {
    "vscode": {
     "languageId": "plaintext"
    }
   },
   "outputs": [],
   "source": [
    "import cv2\n",
    "import numpy as np\n",
    "import pandas as pd\n",
    "\n",
    "def processar_imagem(imagem_filtrada, bordas, min_contour_area=10, max_random_lines=40, max_line_length=500,\n",
    "                     max_angle_deviation=np.pi / 2, max_rho_deviation=100, tolerance=5):\n",
    "    try:\n",
    "        if imagem_filtrada is None:\n",
    "            raise ValueError(\"Não foi possível ler a imagem. Verifique o caminho da imagem.\")\n",
    "\n",
    "        # Encontrar os contornos relevantes na imagem\n",
    "        parent_contours_df = find_parent_contours(bordas, min_contour_area)\n",
    "\n",
    "        if len(parent_contours_df) >= 2:\n",
    "            # Gerar linhas aleatórias\n",
    "            randomized_lines = generate_random_lines(max_random_lines, max_line_length, max_angle_deviation, max_rho_deviation, imagem_filtrada.shape)\n",
    "\n",
    "            # Desenhar as linhas detectadas com aleatoriedade\n",
    "            for rho, theta in randomized_lines:\n",
    "                a, b = np.cos(theta), np.sin(theta)\n",
    "                x0, y0 = a * rho, b * rho\n",
    "                x1, y1 = int(x0 + max_line_length * (-b)), int(y0 + max_line_length * (a))\n",
    "                x2, y2 = int(x0 - max_line_length * (-b)), int(y0 - max_line_length * (a))\n",
    "                cv2.line(imagem_filtrada, (x1, y1), (x2, y2), (0, 0, 255), 2)\n",
    "\n",
    "            # Verificar se os pontos dos contornos estão contidos nas retas\n",
    "            for _, row in parent_contours_df.iterrows():\n",
    "                contour_points = row['contour']\n",
    "                check_points_in_lines(contour_points, randomized_lines, tolerance)\n",
    "        else:\n",
    "            print(\"Não foram encontrados contornos suficientes na imagem.\")\n",
    "\n",
    "    except ValueError as ve:\n",
    "        print(\"Erro ao processar a imagem:\", ve)\n",
    "    except Exception as e:\n",
    "        print(\"Ocorreu um erro inesperado:\", e)\n",
    "\n",
    "# Chamada da função de processamento\n",
    "processar_imagem(imagem_filtrada, bordas)\n"
   ]
  },
  {
   "cell_type": "markdown",
   "metadata": {},
   "source": [
    "Visualização das Imagens com as retas"
   ]
  },
  {
   "cell_type": "code",
   "execution_count": null,
   "metadata": {
    "vscode": {
     "languageId": "plaintext"
    }
   },
   "outputs": [],
   "source": [
    "import cv2\n",
    "from google.colab.patches import cv2_imshow  # Import necessário para usar cv2_imshow no Google Colab\n",
    "\n",
    "def exibir_imagem(imagem):\n",
    "    cv2_imshow(imagem)\n",
    "    cv2.waitKey(0)\n",
    "    cv2.destroyAllWindows()\n",
    "\n",
    "# Exibir a imagem com as linhas traçadas\n",
    "exibir_imagem(imagem_filtrada)\n"
   ]
  },
  {
   "cell_type": "markdown",
   "metadata": {},
   "source": [
    "Vizualização pelo imageshow do matplotlib"
   ]
  },
  {
   "cell_type": "code",
   "execution_count": null,
   "metadata": {
    "vscode": {
     "languageId": "plaintext"
    }
   },
   "outputs": [],
   "source": [
    "from PIL import Image\n",
    "import matplotlib.pyplot as plt\n",
    "import cv2\n",
    "\n",
    "def exibir_imagem(imagem):\n",
    "    plt.imshow(imagem)\n",
    "    plt.axis('off')\n",
    "    plt.show()\n",
    "\n",
    "def carregar_imagem(caminho_da_imagem):\n",
    "    imagem = Image.open(caminho_da_imagem)\n",
    "    return imagem\n",
    "\n",
    "# Modifique o carregamento da imagem\n",
    "caminho_da_imagem = 'data/sand-grains-under-microscope-gary-greenberg-1.jpg'\n",
    "imagem = carregar_imagem(caminho_da_imagem)\n",
    "\n",
    "# Exibir a imagem\n",
    "exibir_imagem(imagem)\n"
   ]
  }
 ],
 "metadata": {
  "language_info": {
   "name": "python"
  }
 },
 "nbformat": 4,
 "nbformat_minor": 2
}
