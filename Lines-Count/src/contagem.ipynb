#Carregar dados
import pandas as pd

#Análise Exploratória
df = pd.read_csv('data/areas_graos.csv')
print(df.describe())
from sklearn.model_selection import train_test_split
from sklearn.ensemble import RandomForestRegressor

# Dividir os dados em treino e teste
X = df[['area_media']]
y = df['caracteristica_alvo']  # Supondo que temos uma coluna alvo
X_train, X_test, y_train, y_test = train_test_split(X, y, test_size=0.2, random_state=42)

# Treinar o modelo
model = RandomForestRegressor()
model.fit(X_train, y_train)

# Avaliar o modelo
score = model.score(X_test, y_test)
print(f'Score do modelo: {score}')
